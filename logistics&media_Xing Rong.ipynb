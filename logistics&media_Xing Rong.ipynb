{
 "cells": [
  {
   "cell_type": "code",
   "execution_count": 2,
   "metadata": {},
   "outputs": [],
   "source": [
    "import matplotlib.pyplot as plt\n",
    "import numpy as np\n",
    "import getstock as gs\n",
    "import pandas as pd"
   ]
  },
  {
   "cell_type": "code",
   "execution_count": 3,
   "metadata": {},
   "outputs": [],
   "source": [
    "apikey = \"2IT76P24R0I34W7C\""
   ]
  },
  {
   "cell_type": "code",
   "execution_count": 4,
   "metadata": {},
   "outputs": [],
   "source": [
    "#logistic\n",
    "FedEx_stock =  gs.getMonthlyStockPrices(\"FDX\", apikey)"
   ]
  },
  {
   "cell_type": "code",
   "execution_count": 5,
   "metadata": {},
   "outputs": [],
   "source": [
    "FedEx_stock_trimmed = FedEx_stock.loc['2019-01-01':'2019-12-31']"
   ]
  },
  {
   "cell_type": "code",
   "execution_count": 7,
   "metadata": {},
   "outputs": [
    {
     "data": {
      "text/html": [
       "<div>\n",
       "<style scoped>\n",
       "    .dataframe tbody tr th:only-of-type {\n",
       "        vertical-align: middle;\n",
       "    }\n",
       "\n",
       "    .dataframe tbody tr th {\n",
       "        vertical-align: top;\n",
       "    }\n",
       "\n",
       "    .dataframe thead th {\n",
       "        text-align: right;\n",
       "    }\n",
       "</style>\n",
       "<table border=\"1\" class=\"dataframe\">\n",
       "  <thead>\n",
       "    <tr style=\"text-align: right;\">\n",
       "      <th></th>\n",
       "      <th>open</th>\n",
       "      <th>high</th>\n",
       "      <th>low</th>\n",
       "      <th>close</th>\n",
       "      <th>adjusted_close</th>\n",
       "      <th>volume</th>\n",
       "      <th>dividend_amt</th>\n",
       "    </tr>\n",
       "  </thead>\n",
       "  <tbody>\n",
       "    <tr>\n",
       "      <th>2019-03-29</th>\n",
       "      <td>182.02</td>\n",
       "      <td>185.31</td>\n",
       "      <td>167.61</td>\n",
       "      <td>181.41</td>\n",
       "      <td>178.3252</td>\n",
       "      <td>50446159</td>\n",
       "      <td>0.65</td>\n",
       "    </tr>\n",
       "    <tr>\n",
       "      <th>2019-06-28</th>\n",
       "      <td>151.16</td>\n",
       "      <td>169.54</td>\n",
       "      <td>150.68</td>\n",
       "      <td>164.19</td>\n",
       "      <td>162.0325</td>\n",
       "      <td>54982058</td>\n",
       "      <td>0.65</td>\n",
       "    </tr>\n",
       "    <tr>\n",
       "      <th>2019-09-30</th>\n",
       "      <td>155.79</td>\n",
       "      <td>176.25</td>\n",
       "      <td>142.49</td>\n",
       "      <td>145.57</td>\n",
       "      <td>144.2340</td>\n",
       "      <td>74643284</td>\n",
       "      <td>0.65</td>\n",
       "    </tr>\n",
       "    <tr>\n",
       "      <th>2019-12-31</th>\n",
       "      <td>160.46</td>\n",
       "      <td>168.37</td>\n",
       "      <td>146.24</td>\n",
       "      <td>151.21</td>\n",
       "      <td>150.4441</td>\n",
       "      <td>83534174</td>\n",
       "      <td>0.65</td>\n",
       "    </tr>\n",
       "  </tbody>\n",
       "</table>\n",
       "</div>"
      ],
      "text/plain": [
       "              open    high     low   close  adjusted_close    volume  \\\n",
       "2019-03-29  182.02  185.31  167.61  181.41        178.3252  50446159   \n",
       "2019-06-28  151.16  169.54  150.68  164.19        162.0325  54982058   \n",
       "2019-09-30  155.79  176.25  142.49  145.57        144.2340  74643284   \n",
       "2019-12-31  160.46  168.37  146.24  151.21        150.4441  83534174   \n",
       "\n",
       "            dividend_amt  \n",
       "2019-03-29          0.65  \n",
       "2019-06-28          0.65  \n",
       "2019-09-30          0.65  \n",
       "2019-12-31          0.65  "
      ]
     },
     "execution_count": 7,
     "metadata": {},
     "output_type": "execute_result"
    }
   ],
   "source": [
    "FedEx_stock_trimmed[FedEx_stock_trimmed.dividend_amt > 0]"
   ]
  },
  {
   "cell_type": "code",
   "execution_count": 11,
   "metadata": {},
   "outputs": [],
   "source": [
    "FedEx_return = (FedEx_stock_trimmed.open - FedEx_stock_trimmed.open.shift(1) + FedEx_stock_trimmed.dividend_amt) / FedEx_stock_trimmed.open.shift(1)"
   ]
  },
  {
   "cell_type": "code",
   "execution_count": 12,
   "metadata": {},
   "outputs": [
    {
     "data": {
      "text/plain": [
       "2019-01-31         NaN\n",
       "2019-02-28    0.124779\n",
       "2019-03-29    0.024509\n",
       "2019-04-30    0.001373\n",
       "2019-05-31    0.040928\n",
       "2019-06-28   -0.199863\n",
       "2019-07-31    0.111537\n",
       "2019-08-30    0.012737\n",
       "2019-09-30   -0.080630\n",
       "2019-10-31   -0.065473\n",
       "2019-11-29    0.058864\n",
       "2019-12-31    0.045083\n",
       "dtype: float64"
      ]
     },
     "execution_count": 12,
     "metadata": {},
     "output_type": "execute_result"
    }
   ],
   "source": [
    "FedEx_return"
   ]
  },
  {
   "cell_type": "code",
   "execution_count": 13,
   "metadata": {},
   "outputs": [
    {
     "data": {
      "text/plain": [
       "0.006713227859973755"
      ]
     },
     "execution_count": 13,
     "metadata": {},
     "output_type": "execute_result"
    }
   ],
   "source": [
    "FedEx_return.mean()"
   ]
  },
  {
   "cell_type": "code",
   "execution_count": 14,
   "metadata": {},
   "outputs": [],
   "source": [
    "Usps_stock = gs.getMonthlyStockPrices(\"USPS\", apikey)"
   ]
  },
  {
   "cell_type": "code",
   "execution_count": 15,
   "metadata": {},
   "outputs": [],
   "source": [
    "Usps_stock_trimmed = Usps_stock.loc['2019-01-01':'2019-12-31']"
   ]
  },
  {
   "cell_type": "code",
   "execution_count": 16,
   "metadata": {},
   "outputs": [
    {
     "data": {
      "text/html": [
       "<div>\n",
       "<style scoped>\n",
       "    .dataframe tbody tr th:only-of-type {\n",
       "        vertical-align: middle;\n",
       "    }\n",
       "\n",
       "    .dataframe tbody tr th {\n",
       "        vertical-align: top;\n",
       "    }\n",
       "\n",
       "    .dataframe thead th {\n",
       "        text-align: right;\n",
       "    }\n",
       "</style>\n",
       "<table border=\"1\" class=\"dataframe\">\n",
       "  <thead>\n",
       "    <tr style=\"text-align: right;\">\n",
       "      <th></th>\n",
       "      <th>open</th>\n",
       "      <th>high</th>\n",
       "      <th>low</th>\n",
       "      <th>close</th>\n",
       "      <th>adjusted_close</th>\n",
       "      <th>volume</th>\n",
       "      <th>dividend_amt</th>\n",
       "    </tr>\n",
       "  </thead>\n",
       "  <tbody>\n",
       "  </tbody>\n",
       "</table>\n",
       "</div>"
      ],
      "text/plain": [
       "Empty DataFrame\n",
       "Columns: [open, high, low, close, adjusted_close, volume, dividend_amt]\n",
       "Index: []"
      ]
     },
     "execution_count": 16,
     "metadata": {},
     "output_type": "execute_result"
    }
   ],
   "source": [
    "Usps_stock_trimmed[Usps_stock_trimmed.dividend_amt > 0]"
   ]
  },
  {
   "cell_type": "code",
   "execution_count": 20,
   "metadata": {},
   "outputs": [],
   "source": [
    "Usps_return = (Usps_stock_trimmed.open - Usps_stock_trimmed.open.shift(1) + Usps_stock_trimmed.dividend_amt) / Usps_stock_trimmed.open.shift(1)"
   ]
  },
  {
   "cell_type": "code",
   "execution_count": 21,
   "metadata": {},
   "outputs": [
    {
     "data": {
      "text/plain": [
       "2019-01-30         NaN\n",
       "2019-02-28    0.750000\n",
       "2019-03-29   -0.378571\n",
       "2019-04-23   -0.080460\n",
       "2019-05-31   -0.622500\n",
       "2019-06-05    0.788079\n",
       "2019-07-26   -0.462963\n",
       "2019-08-29    0.310345\n",
       "2019-09-30   -0.052632\n",
       "2019-10-28   -0.166667\n",
       "2019-11-06    0.333333\n",
       "2019-12-27   -0.295000\n",
       "dtype: float64"
      ]
     },
     "execution_count": 21,
     "metadata": {},
     "output_type": "execute_result"
    }
   ],
   "source": [
    "Usps_return"
   ]
  },
  {
   "cell_type": "code",
   "execution_count": 22,
   "metadata": {},
   "outputs": [
    {
     "data": {
      "text/plain": [
       "0.011178656714076968"
      ]
     },
     "execution_count": 22,
     "metadata": {},
     "output_type": "execute_result"
    }
   ],
   "source": [
    "Usps_return.mean()"
   ]
  },
  {
   "cell_type": "code",
   "execution_count": 23,
   "metadata": {},
   "outputs": [],
   "source": [
    "Ups_stock = gs.getMonthlyStockPrices(\"UPS\", apikey)"
   ]
  },
  {
   "cell_type": "code",
   "execution_count": 24,
   "metadata": {},
   "outputs": [],
   "source": [
    "Ups_stock_trimmed = Ups_stock.loc['2019-01-01':'2019-12-31']"
   ]
  },
  {
   "cell_type": "code",
   "execution_count": 25,
   "metadata": {},
   "outputs": [
    {
     "data": {
      "text/html": [
       "<div>\n",
       "<style scoped>\n",
       "    .dataframe tbody tr th:only-of-type {\n",
       "        vertical-align: middle;\n",
       "    }\n",
       "\n",
       "    .dataframe tbody tr th {\n",
       "        vertical-align: top;\n",
       "    }\n",
       "\n",
       "    .dataframe thead th {\n",
       "        text-align: right;\n",
       "    }\n",
       "</style>\n",
       "<table border=\"1\" class=\"dataframe\">\n",
       "  <thead>\n",
       "    <tr style=\"text-align: right;\">\n",
       "      <th></th>\n",
       "      <th>open</th>\n",
       "      <th>high</th>\n",
       "      <th>low</th>\n",
       "      <th>close</th>\n",
       "      <th>adjusted_close</th>\n",
       "      <th>volume</th>\n",
       "      <th>dividend_amt</th>\n",
       "    </tr>\n",
       "  </thead>\n",
       "  <tbody>\n",
       "    <tr>\n",
       "      <th>2019-02-28</th>\n",
       "      <td>105.72</td>\n",
       "      <td>112.28</td>\n",
       "      <td>105.26</td>\n",
       "      <td>110.20</td>\n",
       "      <td>106.3209</td>\n",
       "      <td>60105269</td>\n",
       "      <td>0.96</td>\n",
       "    </tr>\n",
       "    <tr>\n",
       "      <th>2019-05-31</th>\n",
       "      <td>106.06</td>\n",
       "      <td>106.95</td>\n",
       "      <td>92.65</td>\n",
       "      <td>92.92</td>\n",
       "      <td>90.5150</td>\n",
       "      <td>66608667</td>\n",
       "      <td>0.96</td>\n",
       "    </tr>\n",
       "    <tr>\n",
       "      <th>2019-08-30</th>\n",
       "      <td>118.87</td>\n",
       "      <td>120.77</td>\n",
       "      <td>110.51</td>\n",
       "      <td>118.66</td>\n",
       "      <td>116.5512</td>\n",
       "      <td>68508062</td>\n",
       "      <td>0.96</td>\n",
       "    </tr>\n",
       "    <tr>\n",
       "      <th>2019-11-29</th>\n",
       "      <td>116.46</td>\n",
       "      <td>125.31</td>\n",
       "      <td>116.11</td>\n",
       "      <td>119.73</td>\n",
       "      <td>118.5147</td>\n",
       "      <td>49188607</td>\n",
       "      <td>0.96</td>\n",
       "    </tr>\n",
       "  </tbody>\n",
       "</table>\n",
       "</div>"
      ],
      "text/plain": [
       "              open    high     low   close  adjusted_close    volume  \\\n",
       "2019-02-28  105.72  112.28  105.26  110.20        106.3209  60105269   \n",
       "2019-05-31  106.06  106.95   92.65   92.92         90.5150  66608667   \n",
       "2019-08-30  118.87  120.77  110.51  118.66        116.5512  68508062   \n",
       "2019-11-29  116.46  125.31  116.11  119.73        118.5147  49188607   \n",
       "\n",
       "            dividend_amt  \n",
       "2019-02-28          0.96  \n",
       "2019-05-31          0.96  \n",
       "2019-08-30          0.96  \n",
       "2019-11-29          0.96  "
      ]
     },
     "execution_count": 25,
     "metadata": {},
     "output_type": "execute_result"
    }
   ],
   "source": [
    "Ups_stock_trimmed[Ups_stock_trimmed.dividend_amt > 0]"
   ]
  },
  {
   "cell_type": "code",
   "execution_count": 26,
   "metadata": {},
   "outputs": [],
   "source": [
    "Ups_return = (Ups_stock_trimmed.open - Ups_stock_trimmed.open.shift(1) + Ups_stock_trimmed.dividend_amt) / Ups_stock_trimmed.open.shift(1)"
   ]
  },
  {
   "cell_type": "code",
   "execution_count": 27,
   "metadata": {},
   "outputs": [
    {
     "data": {
      "text/plain": [
       "2019-01-31         NaN\n",
       "2019-02-28    0.109863\n",
       "2019-03-29    0.049376\n",
       "2019-04-30    0.020281\n",
       "2019-05-31   -0.054510\n",
       "2019-06-28   -0.124646\n",
       "2019-07-31    0.126454\n",
       "2019-08-30    0.145821\n",
       "2019-09-30   -0.010179\n",
       "2019-10-31    0.022013\n",
       "2019-11-29   -0.023534\n",
       "2019-12-31    0.031170\n",
       "dtype: float64"
      ]
     },
     "execution_count": 27,
     "metadata": {},
     "output_type": "execute_result"
    }
   ],
   "source": [
    "Ups_return"
   ]
  },
  {
   "cell_type": "code",
   "execution_count": 28,
   "metadata": {},
   "outputs": [
    {
     "data": {
      "text/plain": [
       "0.026555195932175767"
      ]
     },
     "execution_count": 28,
     "metadata": {},
     "output_type": "execute_result"
    }
   ],
   "source": [
    "Ups_return.mean()"
   ]
  },
  {
   "cell_type": "code",
   "execution_count": 29,
   "metadata": {},
   "outputs": [
    {
     "name": "stdout",
     "output_type": "stream",
     "text": [
      "FedEx monthly return mean: 0.006713227859973755\n",
      "Usps monthly return mean: 0.011178656714076968\n",
      "Ups monthly return mean: 0.026555195932175767\n"
     ]
    }
   ],
   "source": [
    "print('FedEx monthly return mean:',FedEx_return.mean())\n",
    "print('Usps monthly return mean:',Usps_return.mean())\n",
    "print('Ups monthly return mean:',Ups_return.mean())"
   ]
  },
  {
   "cell_type": "code",
   "execution_count": 30,
   "metadata": {},
   "outputs": [
    {
     "name": "stdout",
     "output_type": "stream",
     "text": [
      "So, we choose Ups in portfolio combination.\n"
     ]
    }
   ],
   "source": [
    "print('So, we choose Ups in portfolio combination.')"
   ]
  },
  {
   "cell_type": "code",
   "execution_count": 33,
   "metadata": {},
   "outputs": [],
   "source": [
    "#streaming media\n",
    "Netflix_stock =  gs.getMonthlyStockPrices(\"NFLX\", apikey)"
   ]
  },
  {
   "cell_type": "code",
   "execution_count": 34,
   "metadata": {},
   "outputs": [],
   "source": [
    "Netflix_stock_trimmed = Netflix_stock.loc['2019-01-01':'2019-12-31']"
   ]
  },
  {
   "cell_type": "code",
   "execution_count": 35,
   "metadata": {},
   "outputs": [
    {
     "data": {
      "text/html": [
       "<div>\n",
       "<style scoped>\n",
       "    .dataframe tbody tr th:only-of-type {\n",
       "        vertical-align: middle;\n",
       "    }\n",
       "\n",
       "    .dataframe tbody tr th {\n",
       "        vertical-align: top;\n",
       "    }\n",
       "\n",
       "    .dataframe thead th {\n",
       "        text-align: right;\n",
       "    }\n",
       "</style>\n",
       "<table border=\"1\" class=\"dataframe\">\n",
       "  <thead>\n",
       "    <tr style=\"text-align: right;\">\n",
       "      <th></th>\n",
       "      <th>open</th>\n",
       "      <th>high</th>\n",
       "      <th>low</th>\n",
       "      <th>close</th>\n",
       "      <th>adjusted_close</th>\n",
       "      <th>volume</th>\n",
       "      <th>dividend_amt</th>\n",
       "    </tr>\n",
       "  </thead>\n",
       "  <tbody>\n",
       "  </tbody>\n",
       "</table>\n",
       "</div>"
      ],
      "text/plain": [
       "Empty DataFrame\n",
       "Columns: [open, high, low, close, adjusted_close, volume, dividend_amt]\n",
       "Index: []"
      ]
     },
     "execution_count": 35,
     "metadata": {},
     "output_type": "execute_result"
    }
   ],
   "source": [
    "Netflix_stock_trimmed[Netflix_stock_trimmed.dividend_amt > 0]"
   ]
  },
  {
   "cell_type": "code",
   "execution_count": 36,
   "metadata": {},
   "outputs": [],
   "source": [
    "Netflix_return = (Netflix_stock_trimmed.open - Netflix_stock_trimmed.open.shift(1) +Netflix_stock_trimmed.dividend_amt) / Netflix_stock_trimmed.open.shift(1)"
   ]
  },
  {
   "cell_type": "code",
   "execution_count": 37,
   "metadata": {},
   "outputs": [
    {
     "data": {
      "text/plain": [
       "2019-01-31         NaN\n",
       "2019-02-28    0.300447\n",
       "2019-03-29    0.074382\n",
       "2019-04-30   -0.008999\n",
       "2019-05-31    0.041783\n",
       "2019-06-28   -0.081390\n",
       "2019-07-31    0.087146\n",
       "2019-08-30   -0.131861\n",
       "2019-09-30   -0.103099\n",
       "2019-10-31   -0.080703\n",
       "2019-11-29    0.079858\n",
       "2019-12-31    0.088985\n",
       "dtype: float64"
      ]
     },
     "execution_count": 37,
     "metadata": {},
     "output_type": "execute_result"
    }
   ],
   "source": [
    "Netflix_return"
   ]
  },
  {
   "cell_type": "code",
   "execution_count": 38,
   "metadata": {},
   "outputs": [
    {
     "data": {
      "text/plain": [
       "0.024231687781992906"
      ]
     },
     "execution_count": 38,
     "metadata": {},
     "output_type": "execute_result"
    }
   ],
   "source": [
    "Netflix_return.mean()"
   ]
  },
  {
   "cell_type": "code",
   "execution_count": 39,
   "metadata": {},
   "outputs": [],
   "source": [
    "Facebook_stock =  gs.getMonthlyStockPrices(\"FB\", apikey)"
   ]
  },
  {
   "cell_type": "code",
   "execution_count": 40,
   "metadata": {},
   "outputs": [],
   "source": [
    "Facebook_stock_trimmed = Facebook_stock.loc['2019-01-01':'2019-12-31']"
   ]
  },
  {
   "cell_type": "code",
   "execution_count": 41,
   "metadata": {},
   "outputs": [
    {
     "data": {
      "text/html": [
       "<div>\n",
       "<style scoped>\n",
       "    .dataframe tbody tr th:only-of-type {\n",
       "        vertical-align: middle;\n",
       "    }\n",
       "\n",
       "    .dataframe tbody tr th {\n",
       "        vertical-align: top;\n",
       "    }\n",
       "\n",
       "    .dataframe thead th {\n",
       "        text-align: right;\n",
       "    }\n",
       "</style>\n",
       "<table border=\"1\" class=\"dataframe\">\n",
       "  <thead>\n",
       "    <tr style=\"text-align: right;\">\n",
       "      <th></th>\n",
       "      <th>open</th>\n",
       "      <th>high</th>\n",
       "      <th>low</th>\n",
       "      <th>close</th>\n",
       "      <th>adjusted_close</th>\n",
       "      <th>volume</th>\n",
       "      <th>dividend_amt</th>\n",
       "    </tr>\n",
       "  </thead>\n",
       "  <tbody>\n",
       "  </tbody>\n",
       "</table>\n",
       "</div>"
      ],
      "text/plain": [
       "Empty DataFrame\n",
       "Columns: [open, high, low, close, adjusted_close, volume, dividend_amt]\n",
       "Index: []"
      ]
     },
     "execution_count": 41,
     "metadata": {},
     "output_type": "execute_result"
    }
   ],
   "source": [
    "Facebook_stock_trimmed[Facebook_stock_trimmed.dividend_amt > 0]"
   ]
  },
  {
   "cell_type": "code",
   "execution_count": 42,
   "metadata": {},
   "outputs": [],
   "source": [
    "Facebook_return = (Facebook_stock_trimmed.open - Facebook_stock_trimmed.open.shift(1) +Facebook_stock_trimmed.dividend_amt) / Facebook_stock_trimmed.open.shift(1)"
   ]
  },
  {
   "cell_type": "code",
   "execution_count": 43,
   "metadata": {},
   "outputs": [
    {
     "data": {
      "text/plain": [
       "2019-01-31         NaN\n",
       "2019-02-28    0.285681\n",
       "2019-03-29   -0.019537\n",
       "2019-04-30    0.032165\n",
       "2019-05-31    0.160579\n",
       "2019-06-28   -0.101550\n",
       "2019-07-31    0.115486\n",
       "2019-08-30   -0.005328\n",
       "2019-09-30   -0.052377\n",
       "2019-10-31   -0.026359\n",
       "2019-11-29    0.076472\n",
       "2019-12-31    0.048120\n",
       "dtype: float64"
      ]
     },
     "execution_count": 43,
     "metadata": {},
     "output_type": "execute_result"
    }
   ],
   "source": [
    "Facebook_return"
   ]
  },
  {
   "cell_type": "code",
   "execution_count": 44,
   "metadata": {},
   "outputs": [
    {
     "data": {
      "text/plain": [
       "0.04666843996820646"
      ]
     },
     "execution_count": 44,
     "metadata": {},
     "output_type": "execute_result"
    }
   ],
   "source": [
    "Facebook_return.mean()"
   ]
  },
  {
   "cell_type": "code",
   "execution_count": 45,
   "metadata": {},
   "outputs": [],
   "source": [
    "Twitter_stock = gs.getMonthlyStockPrices(\"TWTR\", apikey)"
   ]
  },
  {
   "cell_type": "code",
   "execution_count": 46,
   "metadata": {},
   "outputs": [],
   "source": [
    "Twitter_stock_trimmed = Twitter_stock.loc['2019-01-01':'2019-12-31']"
   ]
  },
  {
   "cell_type": "code",
   "execution_count": 47,
   "metadata": {},
   "outputs": [
    {
     "data": {
      "text/html": [
       "<div>\n",
       "<style scoped>\n",
       "    .dataframe tbody tr th:only-of-type {\n",
       "        vertical-align: middle;\n",
       "    }\n",
       "\n",
       "    .dataframe tbody tr th {\n",
       "        vertical-align: top;\n",
       "    }\n",
       "\n",
       "    .dataframe thead th {\n",
       "        text-align: right;\n",
       "    }\n",
       "</style>\n",
       "<table border=\"1\" class=\"dataframe\">\n",
       "  <thead>\n",
       "    <tr style=\"text-align: right;\">\n",
       "      <th></th>\n",
       "      <th>open</th>\n",
       "      <th>high</th>\n",
       "      <th>low</th>\n",
       "      <th>close</th>\n",
       "      <th>adjusted_close</th>\n",
       "      <th>volume</th>\n",
       "      <th>dividend_amt</th>\n",
       "    </tr>\n",
       "  </thead>\n",
       "  <tbody>\n",
       "  </tbody>\n",
       "</table>\n",
       "</div>"
      ],
      "text/plain": [
       "Empty DataFrame\n",
       "Columns: [open, high, low, close, adjusted_close, volume, dividend_amt]\n",
       "Index: []"
      ]
     },
     "execution_count": 47,
     "metadata": {},
     "output_type": "execute_result"
    }
   ],
   "source": [
    "Twitter_stock_trimmed[Twitter_stock_trimmed.dividend_amt > 0]"
   ]
  },
  {
   "cell_type": "code",
   "execution_count": 48,
   "metadata": {},
   "outputs": [],
   "source": [
    "Twitter_return = (Twitter_stock_trimmed.open - Twitter_stock_trimmed.open.shift(1) +Twitter_stock_trimmed.dividend_amt) / Twitter_stock_trimmed.open.shift(1)"
   ]
  },
  {
   "cell_type": "code",
   "execution_count": 49,
   "metadata": {},
   "outputs": [
    {
     "data": {
      "text/plain": [
       "2019-01-31         NaN\n",
       "2019-02-28    0.187544\n",
       "2019-03-29   -0.071216\n",
       "2019-04-30    0.063843\n",
       "2019-05-31    0.206273\n",
       "2019-06-28   -0.088750\n",
       "2019-07-31   -0.026063\n",
       "2019-08-30    0.198310\n",
       "2019-09-30   -0.003761\n",
       "2019-10-31   -0.025012\n",
       "2019-11-29   -0.274927\n",
       "2019-12-31    0.031709\n",
       "dtype: float64"
      ]
     },
     "execution_count": 49,
     "metadata": {},
     "output_type": "execute_result"
    }
   ],
   "source": [
    "Twitter_return "
   ]
  },
  {
   "cell_type": "code",
   "execution_count": 50,
   "metadata": {},
   "outputs": [
    {
     "data": {
      "text/plain": [
       "0.01799544548138338"
      ]
     },
     "execution_count": 50,
     "metadata": {},
     "output_type": "execute_result"
    }
   ],
   "source": [
    "Twitter_return .mean()"
   ]
  },
  {
   "cell_type": "code",
   "execution_count": 51,
   "metadata": {},
   "outputs": [
    {
     "name": "stdout",
     "output_type": "stream",
     "text": [
      "Netflix monthly return mean: 0.024231687781992906\n",
      "Facebook monthly return mean: 0.04666843996820646\n",
      "Twitter monthly return mean: 0.01799544548138338\n"
     ]
    }
   ],
   "source": [
    "print('Netflix monthly return mean:',Netflix_return.mean())\n",
    "print('Facebook monthly return mean:',Facebook_return.mean())\n",
    "print('Twitter monthly return mean:',Twitter_return.mean())"
   ]
  },
  {
   "cell_type": "code",
   "execution_count": 70,
   "metadata": {},
   "outputs": [
    {
     "name": "stdout",
     "output_type": "stream",
     "text": [
      "So, we choose Facebook in portfolio combination\n"
     ]
    }
   ],
   "source": [
    "print('So, we choose Facebook in portfolio combination.')"
   ]
  },
  {
   "cell_type": "code",
   "execution_count": null,
   "metadata": {},
   "outputs": [],
   "source": []
  }
 ],
 "metadata": {
  "kernelspec": {
   "display_name": "Python 3",
   "language": "python",
   "name": "python3"
  },
  "language_info": {
   "codemirror_mode": {
    "name": "ipython",
    "version": 3
   },
   "file_extension": ".py",
   "mimetype": "text/x-python",
   "name": "python",
   "nbconvert_exporter": "python",
   "pygments_lexer": "ipython3",
   "version": "3.7.6"
  }
 },
 "nbformat": 4,
 "nbformat_minor": 4
}
