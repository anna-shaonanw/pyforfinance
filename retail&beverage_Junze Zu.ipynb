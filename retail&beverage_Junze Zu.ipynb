{
 "cells": [
  {
   "cell_type": "code",
   "execution_count": 1,
   "metadata": {},
   "outputs": [],
   "source": [
    "import pandas as pd\n",
    "import numpy as np\n",
    "import matplotlib.pyplot as plt\n",
    "import getstock as gs\n",
    "from pandas.plotting import register_matplotlib_converters\n",
    "register_matplotlib_converters()"
   ]
  },
  {
   "cell_type": "code",
   "execution_count": 2,
   "metadata": {},
   "outputs": [],
   "source": [
    "apikey = \"N5VESV03IO07SUX8\""
   ]
  },
  {
   "cell_type": "code",
   "execution_count": 3,
   "metadata": {},
   "outputs": [],
   "source": [
    "Target_stock = gs.getMonthlyStockPrices(\"TGT\",apikey)\n",
    "Walmart_stock = gs.getMonthlyStockPrices(\"WMT\", apikey)\n",
    "Costco_stock = gs.getMonthlyStockPrices(\"COST\", apikey)"
   ]
  },
  {
   "cell_type": "code",
   "execution_count": 4,
   "metadata": {},
   "outputs": [],
   "source": [
    "Target_stock_trimmed = Target_stock.loc['2019-01-01':'2019-12-31']\n",
    "Walmart_stock_trimmed = Walmart_stock.loc['2019-01-01':'2019-12-31']\n",
    "Costco_stock_trimmed = Costco_stock.loc['2019-01-01':'2019-12-31']"
   ]
  },
  {
   "cell_type": "code",
   "execution_count": 5,
   "metadata": {},
   "outputs": [
    {
     "data": {
      "text/html": [
       "<div>\n",
       "<style scoped>\n",
       "    .dataframe tbody tr th:only-of-type {\n",
       "        vertical-align: middle;\n",
       "    }\n",
       "\n",
       "    .dataframe tbody tr th {\n",
       "        vertical-align: top;\n",
       "    }\n",
       "\n",
       "    .dataframe thead th {\n",
       "        text-align: right;\n",
       "    }\n",
       "</style>\n",
       "<table border=\"1\" class=\"dataframe\">\n",
       "  <thead>\n",
       "    <tr style=\"text-align: right;\">\n",
       "      <th></th>\n",
       "      <th>open</th>\n",
       "      <th>high</th>\n",
       "      <th>low</th>\n",
       "      <th>close</th>\n",
       "      <th>adjusted_close</th>\n",
       "      <th>volume</th>\n",
       "      <th>dividend_amt</th>\n",
       "    </tr>\n",
       "  </thead>\n",
       "  <tbody>\n",
       "    <tr>\n",
       "      <th>2019-02-28</th>\n",
       "      <td>73.095</td>\n",
       "      <td>73.71</td>\n",
       "      <td>69.0700</td>\n",
       "      <td>72.64</td>\n",
       "      <td>70.6237</td>\n",
       "      <td>93833418</td>\n",
       "      <td>0.64</td>\n",
       "    </tr>\n",
       "    <tr>\n",
       "      <th>2019-05-31</th>\n",
       "      <td>77.800</td>\n",
       "      <td>82.25</td>\n",
       "      <td>70.0300</td>\n",
       "      <td>80.45</td>\n",
       "      <td>78.9194</td>\n",
       "      <td>140086834</td>\n",
       "      <td>0.64</td>\n",
       "    </tr>\n",
       "    <tr>\n",
       "      <th>2019-08-30</th>\n",
       "      <td>86.190</td>\n",
       "      <td>109.33</td>\n",
       "      <td>80.0335</td>\n",
       "      <td>107.04</td>\n",
       "      <td>105.8138</td>\n",
       "      <td>182895387</td>\n",
       "      <td>0.66</td>\n",
       "    </tr>\n",
       "    <tr>\n",
       "      <th>2019-11-29</th>\n",
       "      <td>108.060</td>\n",
       "      <td>127.97</td>\n",
       "      <td>107.0200</td>\n",
       "      <td>125.01</td>\n",
       "      <td>124.3137</td>\n",
       "      <td>129841173</td>\n",
       "      <td>0.66</td>\n",
       "    </tr>\n",
       "  </tbody>\n",
       "</table>\n",
       "</div>"
      ],
      "text/plain": [
       "               open    high       low   close  adjusted_close     volume  \\\n",
       "2019-02-28   73.095   73.71   69.0700   72.64         70.6237   93833418   \n",
       "2019-05-31   77.800   82.25   70.0300   80.45         78.9194  140086834   \n",
       "2019-08-30   86.190  109.33   80.0335  107.04        105.8138  182895387   \n",
       "2019-11-29  108.060  127.97  107.0200  125.01        124.3137  129841173   \n",
       "\n",
       "            dividend_amt  \n",
       "2019-02-28          0.64  \n",
       "2019-05-31          0.64  \n",
       "2019-08-30          0.66  \n",
       "2019-11-29          0.66  "
      ]
     },
     "execution_count": 5,
     "metadata": {},
     "output_type": "execute_result"
    }
   ],
   "source": [
    "Target_stock_trimmed[Target_stock_trimmed.dividend_amt > 0]"
   ]
  },
  {
   "cell_type": "code",
   "execution_count": 6,
   "metadata": {},
   "outputs": [
    {
     "data": {
      "text/html": [
       "<div>\n",
       "<style scoped>\n",
       "    .dataframe tbody tr th:only-of-type {\n",
       "        vertical-align: middle;\n",
       "    }\n",
       "\n",
       "    .dataframe tbody tr th {\n",
       "        vertical-align: top;\n",
       "    }\n",
       "\n",
       "    .dataframe thead th {\n",
       "        text-align: right;\n",
       "    }\n",
       "</style>\n",
       "<table border=\"1\" class=\"dataframe\">\n",
       "  <thead>\n",
       "    <tr style=\"text-align: right;\">\n",
       "      <th></th>\n",
       "      <th>open</th>\n",
       "      <th>high</th>\n",
       "      <th>low</th>\n",
       "      <th>close</th>\n",
       "      <th>adjusted_close</th>\n",
       "      <th>volume</th>\n",
       "      <th>dividend_amt</th>\n",
       "    </tr>\n",
       "  </thead>\n",
       "  <tbody>\n",
       "    <tr>\n",
       "      <th>2019-03-29</th>\n",
       "      <td>99.47</td>\n",
       "      <td>100.49</td>\n",
       "      <td>96.53</td>\n",
       "      <td>97.53</td>\n",
       "      <td>95.6801</td>\n",
       "      <td>141148758</td>\n",
       "      <td>0.53</td>\n",
       "    </tr>\n",
       "    <tr>\n",
       "      <th>2019-05-31</th>\n",
       "      <td>102.77</td>\n",
       "      <td>103.96</td>\n",
       "      <td>98.85</td>\n",
       "      <td>101.44</td>\n",
       "      <td>100.0458</td>\n",
       "      <td>155765843</td>\n",
       "      <td>0.53</td>\n",
       "    </tr>\n",
       "    <tr>\n",
       "      <th>2019-08-30</th>\n",
       "      <td>110.32</td>\n",
       "      <td>115.38</td>\n",
       "      <td>104.84</td>\n",
       "      <td>114.26</td>\n",
       "      <td>113.2400</td>\n",
       "      <td>157363365</td>\n",
       "      <td>0.53</td>\n",
       "    </tr>\n",
       "    <tr>\n",
       "      <th>2019-12-31</th>\n",
       "      <td>119.15</td>\n",
       "      <td>122.12</td>\n",
       "      <td>117.42</td>\n",
       "      <td>118.84</td>\n",
       "      <td>118.3052</td>\n",
       "      <td>98426399</td>\n",
       "      <td>0.53</td>\n",
       "    </tr>\n",
       "  </tbody>\n",
       "</table>\n",
       "</div>"
      ],
      "text/plain": [
       "              open    high     low   close  adjusted_close     volume  \\\n",
       "2019-03-29   99.47  100.49   96.53   97.53         95.6801  141148758   \n",
       "2019-05-31  102.77  103.96   98.85  101.44        100.0458  155765843   \n",
       "2019-08-30  110.32  115.38  104.84  114.26        113.2400  157363365   \n",
       "2019-12-31  119.15  122.12  117.42  118.84        118.3052   98426399   \n",
       "\n",
       "            dividend_amt  \n",
       "2019-03-29          0.53  \n",
       "2019-05-31          0.53  \n",
       "2019-08-30          0.53  \n",
       "2019-12-31          0.53  "
      ]
     },
     "execution_count": 6,
     "metadata": {},
     "output_type": "execute_result"
    }
   ],
   "source": [
    "Walmart_stock_trimmed[Walmart_stock_trimmed.dividend_amt > 0]"
   ]
  },
  {
   "cell_type": "code",
   "execution_count": 7,
   "metadata": {},
   "outputs": [
    {
     "data": {
      "text/html": [
       "<div>\n",
       "<style scoped>\n",
       "    .dataframe tbody tr th:only-of-type {\n",
       "        vertical-align: middle;\n",
       "    }\n",
       "\n",
       "    .dataframe tbody tr th {\n",
       "        vertical-align: top;\n",
       "    }\n",
       "\n",
       "    .dataframe thead th {\n",
       "        text-align: right;\n",
       "    }\n",
       "</style>\n",
       "<table border=\"1\" class=\"dataframe\">\n",
       "  <thead>\n",
       "    <tr style=\"text-align: right;\">\n",
       "      <th></th>\n",
       "      <th>open</th>\n",
       "      <th>high</th>\n",
       "      <th>low</th>\n",
       "      <th>close</th>\n",
       "      <th>adjusted_close</th>\n",
       "      <th>volume</th>\n",
       "      <th>dividend_amt</th>\n",
       "    </tr>\n",
       "  </thead>\n",
       "  <tbody>\n",
       "    <tr>\n",
       "      <th>2019-02-28</th>\n",
       "      <td>214.00</td>\n",
       "      <td>219.6917</td>\n",
       "      <td>205.7500</td>\n",
       "      <td>218.74</td>\n",
       "      <td>216.7517</td>\n",
       "      <td>37633330</td>\n",
       "      <td>0.57</td>\n",
       "    </tr>\n",
       "    <tr>\n",
       "      <th>2019-05-31</th>\n",
       "      <td>245.34</td>\n",
       "      <td>251.0100</td>\n",
       "      <td>233.0500</td>\n",
       "      <td>239.58</td>\n",
       "      <td>238.0361</td>\n",
       "      <td>39655921</td>\n",
       "      <td>0.65</td>\n",
       "    </tr>\n",
       "    <tr>\n",
       "      <th>2019-08-30</th>\n",
       "      <td>275.75</td>\n",
       "      <td>299.9500</td>\n",
       "      <td>262.7100</td>\n",
       "      <td>294.76</td>\n",
       "      <td>293.5023</td>\n",
       "      <td>50012361</td>\n",
       "      <td>0.65</td>\n",
       "    </tr>\n",
       "    <tr>\n",
       "      <th>2019-10-31</th>\n",
       "      <td>288.04</td>\n",
       "      <td>304.8800</td>\n",
       "      <td>281.6001</td>\n",
       "      <td>297.11</td>\n",
       "      <td>296.4895</td>\n",
       "      <td>47544698</td>\n",
       "      <td>0.65</td>\n",
       "    </tr>\n",
       "  </tbody>\n",
       "</table>\n",
       "</div>"
      ],
      "text/plain": [
       "              open      high       low   close  adjusted_close    volume  \\\n",
       "2019-02-28  214.00  219.6917  205.7500  218.74        216.7517  37633330   \n",
       "2019-05-31  245.34  251.0100  233.0500  239.58        238.0361  39655921   \n",
       "2019-08-30  275.75  299.9500  262.7100  294.76        293.5023  50012361   \n",
       "2019-10-31  288.04  304.8800  281.6001  297.11        296.4895  47544698   \n",
       "\n",
       "            dividend_amt  \n",
       "2019-02-28          0.57  \n",
       "2019-05-31          0.65  \n",
       "2019-08-30          0.65  \n",
       "2019-10-31          0.65  "
      ]
     },
     "execution_count": 7,
     "metadata": {},
     "output_type": "execute_result"
    }
   ],
   "source": [
    "Costco_stock_trimmed[Costco_stock_trimmed.dividend_amt > 0]"
   ]
  },
  {
   "cell_type": "code",
   "execution_count": 8,
   "metadata": {},
   "outputs": [],
   "source": [
    "Target_return = (Target_stock_trimmed.open - Target_stock_trimmed.open.shift(1)\n",
    "                + Target_stock_trimmed.dividend_amt) / Target_stock_trimmed.open.shift(1)\n",
    "Walmart_return = (Walmart_stock_trimmed.open - Walmart_stock_trimmed.open.shift(1)\n",
    "                + Walmart_stock_trimmed.dividend_amt) / Walmart_stock_trimmed.open.shift(1)\n",
    "Costco_return = (Costco_stock_trimmed.open - Costco_stock_trimmed.open.shift(1)\n",
    "                + Costco_stock_trimmed.dividend_amt) / Costco_stock_trimmed.open.shift(1)"
   ]
  },
  {
   "cell_type": "code",
   "execution_count": 9,
   "metadata": {},
   "outputs": [
    {
     "data": {
      "text/plain": [
       "2019-01-31         NaN\n",
       "2019-02-28    0.133338\n",
       "2019-03-29    0.006772\n",
       "2019-04-30    0.095393\n",
       "2019-05-31   -0.026920\n",
       "2019-06-28    0.035990\n",
       "2019-07-31    0.086228\n",
       "2019-08-30   -0.007995\n",
       "2019-09-30    0.238775\n",
       "2019-10-31    0.005245\n",
       "2019-11-29    0.012951\n",
       "2019-12-31    0.163243\n",
       "dtype: float64"
      ]
     },
     "execution_count": 9,
     "metadata": {},
     "output_type": "execute_result"
    }
   ],
   "source": [
    "Target_return"
   ]
  },
  {
   "cell_type": "code",
   "execution_count": 10,
   "metadata": {},
   "outputs": [
    {
     "data": {
      "text/plain": [
       "2019-01-31         NaN\n",
       "2019-02-28    0.046704\n",
       "2019-03-29    0.042535\n",
       "2019-04-30   -0.015080\n",
       "2019-05-31    0.054404\n",
       "2019-06-28   -0.011093\n",
       "2019-07-31    0.095149\n",
       "2019-08-30   -0.004043\n",
       "2019-09-30    0.030457\n",
       "2019-10-31    0.045479\n",
       "2019-11-29   -0.007825\n",
       "2019-12-31    0.014925\n",
       "dtype: float64"
      ]
     },
     "execution_count": 10,
     "metadata": {},
     "output_type": "execute_result"
    }
   ],
   "source": [
    "Walmart_return"
   ]
  },
  {
   "cell_type": "code",
   "execution_count": 11,
   "metadata": {},
   "outputs": [
    {
     "data": {
      "text/plain": [
       "2019-01-31         NaN\n",
       "2019-02-28    0.070175\n",
       "2019-03-29    0.026916\n",
       "2019-04-30    0.106070\n",
       "2019-05-31    0.012013\n",
       "2019-06-28   -0.022662\n",
       "2019-07-31    0.111144\n",
       "2019-08-30    0.037421\n",
       "2019-09-30    0.060997\n",
       "2019-10-31   -0.013262\n",
       "2019-11-29    0.034544\n",
       "2019-12-31    0.005906\n",
       "dtype: float64"
      ]
     },
     "execution_count": 11,
     "metadata": {},
     "output_type": "execute_result"
    }
   ],
   "source": [
    "Costco_return"
   ]
  },
  {
   "cell_type": "code",
   "execution_count": 12,
   "metadata": {},
   "outputs": [
    {
     "data": {
      "text/plain": [
       "0.0675472521031165"
      ]
     },
     "execution_count": 12,
     "metadata": {},
     "output_type": "execute_result"
    }
   ],
   "source": [
    "Target_return.mean()"
   ]
  },
  {
   "cell_type": "code",
   "execution_count": 13,
   "metadata": {},
   "outputs": [
    {
     "data": {
      "text/plain": [
       "0.02651031025384579"
      ]
     },
     "execution_count": 13,
     "metadata": {},
     "output_type": "execute_result"
    }
   ],
   "source": [
    "Walmart_return.mean()"
   ]
  },
  {
   "cell_type": "code",
   "execution_count": 14,
   "metadata": {},
   "outputs": [
    {
     "data": {
      "text/plain": [
       "0.03902373547467924"
      ]
     },
     "execution_count": 14,
     "metadata": {},
     "output_type": "execute_result"
    }
   ],
   "source": [
    "Costco_return.mean()"
   ]
  },
  {
   "cell_type": "code",
   "execution_count": 15,
   "metadata": {},
   "outputs": [],
   "source": [
    "Cocacola_stock = gs.getMonthlyStockPrices(\"KO\",apikey)\n",
    "Pepsi_stock = gs.getMonthlyStockPrices(\"PEP\", apikey)\n",
    "GreenMountain_stock = gs.getMonthlyStockPrices(\"KDP\", apikey)"
   ]
  },
  {
   "cell_type": "code",
   "execution_count": 16,
   "metadata": {},
   "outputs": [],
   "source": [
    "Cocacola_stock_trimmed = Cocacola_stock.loc['2019-01-01':'2019-12-31']\n",
    "Pepsi_stock_trimmed = Pepsi_stock.loc['2019-01-01':'2019-12-31']\n",
    "GreenMountain_stock_trimmed = GreenMountain_stock.loc['2019-01-01':'2019-12-31']"
   ]
  },
  {
   "cell_type": "code",
   "execution_count": 17,
   "metadata": {},
   "outputs": [
    {
     "data": {
      "text/html": [
       "<div>\n",
       "<style scoped>\n",
       "    .dataframe tbody tr th:only-of-type {\n",
       "        vertical-align: middle;\n",
       "    }\n",
       "\n",
       "    .dataframe tbody tr th {\n",
       "        vertical-align: top;\n",
       "    }\n",
       "\n",
       "    .dataframe thead th {\n",
       "        text-align: right;\n",
       "    }\n",
       "</style>\n",
       "<table border=\"1\" class=\"dataframe\">\n",
       "  <thead>\n",
       "    <tr style=\"text-align: right;\">\n",
       "      <th></th>\n",
       "      <th>open</th>\n",
       "      <th>high</th>\n",
       "      <th>low</th>\n",
       "      <th>close</th>\n",
       "      <th>adjusted_close</th>\n",
       "      <th>volume</th>\n",
       "      <th>dividend_amt</th>\n",
       "    </tr>\n",
       "  </thead>\n",
       "  <tbody>\n",
       "    <tr>\n",
       "      <th>2019-03-29</th>\n",
       "      <td>45.47</td>\n",
       "      <td>46.92</td>\n",
       "      <td>44.6100</td>\n",
       "      <td>46.86</td>\n",
       "      <td>45.4286</td>\n",
       "      <td>363961889</td>\n",
       "      <td>0.4</td>\n",
       "    </tr>\n",
       "    <tr>\n",
       "      <th>2019-06-28</th>\n",
       "      <td>49.16</td>\n",
       "      <td>52.20</td>\n",
       "      <td>49.0200</td>\n",
       "      <td>50.92</td>\n",
       "      <td>49.7507</td>\n",
       "      <td>248587593</td>\n",
       "      <td>0.4</td>\n",
       "    </tr>\n",
       "    <tr>\n",
       "      <th>2019-09-30</th>\n",
       "      <td>54.98</td>\n",
       "      <td>55.92</td>\n",
       "      <td>53.6300</td>\n",
       "      <td>54.44</td>\n",
       "      <td>53.5820</td>\n",
       "      <td>219016915</td>\n",
       "      <td>0.4</td>\n",
       "    </tr>\n",
       "    <tr>\n",
       "      <th>2019-11-29</th>\n",
       "      <td>54.63</td>\n",
       "      <td>54.74</td>\n",
       "      <td>51.5831</td>\n",
       "      <td>53.40</td>\n",
       "      <td>52.9521</td>\n",
       "      <td>226242549</td>\n",
       "      <td>0.4</td>\n",
       "    </tr>\n",
       "  </tbody>\n",
       "</table>\n",
       "</div>"
      ],
      "text/plain": [
       "             open   high      low  close  adjusted_close     volume  \\\n",
       "2019-03-29  45.47  46.92  44.6100  46.86         45.4286  363961889   \n",
       "2019-06-28  49.16  52.20  49.0200  50.92         49.7507  248587593   \n",
       "2019-09-30  54.98  55.92  53.6300  54.44         53.5820  219016915   \n",
       "2019-11-29  54.63  54.74  51.5831  53.40         52.9521  226242549   \n",
       "\n",
       "            dividend_amt  \n",
       "2019-03-29           0.4  \n",
       "2019-06-28           0.4  \n",
       "2019-09-30           0.4  \n",
       "2019-11-29           0.4  "
      ]
     },
     "execution_count": 17,
     "metadata": {},
     "output_type": "execute_result"
    }
   ],
   "source": [
    "Cocacola_stock_trimmed[Cocacola_stock_trimmed.dividend_amt > 0]"
   ]
  },
  {
   "cell_type": "code",
   "execution_count": 18,
   "metadata": {},
   "outputs": [
    {
     "data": {
      "text/html": [
       "<div>\n",
       "<style scoped>\n",
       "    .dataframe tbody tr th:only-of-type {\n",
       "        vertical-align: middle;\n",
       "    }\n",
       "\n",
       "    .dataframe tbody tr th {\n",
       "        vertical-align: top;\n",
       "    }\n",
       "\n",
       "    .dataframe thead th {\n",
       "        text-align: right;\n",
       "    }\n",
       "</style>\n",
       "<table border=\"1\" class=\"dataframe\">\n",
       "  <thead>\n",
       "    <tr style=\"text-align: right;\">\n",
       "      <th></th>\n",
       "      <th>open</th>\n",
       "      <th>high</th>\n",
       "      <th>low</th>\n",
       "      <th>close</th>\n",
       "      <th>adjusted_close</th>\n",
       "      <th>volume</th>\n",
       "      <th>dividend_amt</th>\n",
       "    </tr>\n",
       "  </thead>\n",
       "  <tbody>\n",
       "    <tr>\n",
       "      <th>2019-02-28</th>\n",
       "      <td>112.95</td>\n",
       "      <td>117.300</td>\n",
       "      <td>111.45</td>\n",
       "      <td>115.64</td>\n",
       "      <td>112.4380</td>\n",
       "      <td>96885909</td>\n",
       "      <td>0.9275</td>\n",
       "    </tr>\n",
       "    <tr>\n",
       "      <th>2019-06-28</th>\n",
       "      <td>127.86</td>\n",
       "      <td>135.242</td>\n",
       "      <td>127.49</td>\n",
       "      <td>131.13</td>\n",
       "      <td>128.4217</td>\n",
       "      <td>88686926</td>\n",
       "      <td>0.9550</td>\n",
       "    </tr>\n",
       "    <tr>\n",
       "      <th>2019-09-30</th>\n",
       "      <td>136.35</td>\n",
       "      <td>139.180</td>\n",
       "      <td>134.10</td>\n",
       "      <td>137.10</td>\n",
       "      <td>135.2113</td>\n",
       "      <td>78847232</td>\n",
       "      <td>0.9550</td>\n",
       "    </tr>\n",
       "    <tr>\n",
       "      <th>2019-12-31</th>\n",
       "      <td>136.65</td>\n",
       "      <td>138.250</td>\n",
       "      <td>134.32</td>\n",
       "      <td>136.67</td>\n",
       "      <td>135.7314</td>\n",
       "      <td>82804561</td>\n",
       "      <td>0.9550</td>\n",
       "    </tr>\n",
       "  </tbody>\n",
       "</table>\n",
       "</div>"
      ],
      "text/plain": [
       "              open     high     low   close  adjusted_close    volume  \\\n",
       "2019-02-28  112.95  117.300  111.45  115.64        112.4380  96885909   \n",
       "2019-06-28  127.86  135.242  127.49  131.13        128.4217  88686926   \n",
       "2019-09-30  136.35  139.180  134.10  137.10        135.2113  78847232   \n",
       "2019-12-31  136.65  138.250  134.32  136.67        135.7314  82804561   \n",
       "\n",
       "            dividend_amt  \n",
       "2019-02-28        0.9275  \n",
       "2019-06-28        0.9550  \n",
       "2019-09-30        0.9550  \n",
       "2019-12-31        0.9550  "
      ]
     },
     "execution_count": 18,
     "metadata": {},
     "output_type": "execute_result"
    }
   ],
   "source": [
    "Pepsi_stock_trimmed[Pepsi_stock_trimmed.dividend_amt > 0]"
   ]
  },
  {
   "cell_type": "code",
   "execution_count": 19,
   "metadata": {},
   "outputs": [
    {
     "data": {
      "text/html": [
       "<div>\n",
       "<style scoped>\n",
       "    .dataframe tbody tr th:only-of-type {\n",
       "        vertical-align: middle;\n",
       "    }\n",
       "\n",
       "    .dataframe tbody tr th {\n",
       "        vertical-align: top;\n",
       "    }\n",
       "\n",
       "    .dataframe thead th {\n",
       "        text-align: right;\n",
       "    }\n",
       "</style>\n",
       "<table border=\"1\" class=\"dataframe\">\n",
       "  <thead>\n",
       "    <tr style=\"text-align: right;\">\n",
       "      <th></th>\n",
       "      <th>open</th>\n",
       "      <th>high</th>\n",
       "      <th>low</th>\n",
       "      <th>close</th>\n",
       "      <th>adjusted_close</th>\n",
       "      <th>volume</th>\n",
       "      <th>dividend_amt</th>\n",
       "    </tr>\n",
       "  </thead>\n",
       "  <tbody>\n",
       "    <tr>\n",
       "      <th>2019-01-31</th>\n",
       "      <td>25.28</td>\n",
       "      <td>27.33</td>\n",
       "      <td>24.860</td>\n",
       "      <td>27.22</td>\n",
       "      <td>26.4841</td>\n",
       "      <td>54260220</td>\n",
       "      <td>0.15</td>\n",
       "    </tr>\n",
       "    <tr>\n",
       "      <th>2019-04-30</th>\n",
       "      <td>27.98</td>\n",
       "      <td>29.13</td>\n",
       "      <td>26.090</td>\n",
       "      <td>29.07</td>\n",
       "      <td>28.4398</td>\n",
       "      <td>52428549</td>\n",
       "      <td>0.15</td>\n",
       "    </tr>\n",
       "    <tr>\n",
       "      <th>2019-07-31</th>\n",
       "      <td>29.12</td>\n",
       "      <td>30.27</td>\n",
       "      <td>27.395</td>\n",
       "      <td>28.14</td>\n",
       "      <td>27.6667</td>\n",
       "      <td>51154438</td>\n",
       "      <td>0.15</td>\n",
       "    </tr>\n",
       "    <tr>\n",
       "      <th>2019-10-31</th>\n",
       "      <td>27.32</td>\n",
       "      <td>28.20</td>\n",
       "      <td>26.610</td>\n",
       "      <td>28.16</td>\n",
       "      <td>27.8388</td>\n",
       "      <td>52713618</td>\n",
       "      <td>0.15</td>\n",
       "    </tr>\n",
       "  </tbody>\n",
       "</table>\n",
       "</div>"
      ],
      "text/plain": [
       "             open   high     low  close  adjusted_close    volume  \\\n",
       "2019-01-31  25.28  27.33  24.860  27.22         26.4841  54260220   \n",
       "2019-04-30  27.98  29.13  26.090  29.07         28.4398  52428549   \n",
       "2019-07-31  29.12  30.27  27.395  28.14         27.6667  51154438   \n",
       "2019-10-31  27.32  28.20  26.610  28.16         27.8388  52713618   \n",
       "\n",
       "            dividend_amt  \n",
       "2019-01-31          0.15  \n",
       "2019-04-30          0.15  \n",
       "2019-07-31          0.15  \n",
       "2019-10-31          0.15  "
      ]
     },
     "execution_count": 19,
     "metadata": {},
     "output_type": "execute_result"
    }
   ],
   "source": [
    "GreenMountain_stock_trimmed[GreenMountain_stock_trimmed.dividend_amt > 0]"
   ]
  },
  {
   "cell_type": "code",
   "execution_count": 20,
   "metadata": {},
   "outputs": [],
   "source": [
    "Cocacola_return = (Cocacola_stock_trimmed.open - Cocacola_stock_trimmed.open.shift(1)\n",
    "                + Cocacola_stock_trimmed.dividend_amt) /Cocacola_stock_trimmed.open.shift(1)\n",
    "Pepsi_return = (Pepsi_stock_trimmed.open - Pepsi_stock_trimmed.open.shift(1)\n",
    "                + Pepsi_stock_trimmed.dividend_amt) / Pepsi_stock_trimmed.open.shift(1)\n",
    "GreenMountain_return = (GreenMountain_stock_trimmed.open - GreenMountain_stock_trimmed.open.shift(1)\n",
    "                + GreenMountain_stock_trimmed.dividend_amt) / GreenMountain_stock_trimmed.open.shift(1)"
   ]
  },
  {
   "cell_type": "code",
   "execution_count": 21,
   "metadata": {},
   "outputs": [
    {
     "data": {
      "text/plain": [
       "2019-01-31         NaN\n",
       "2019-02-28    0.032808\n",
       "2019-03-29   -0.053837\n",
       "2019-04-30    0.033429\n",
       "2019-05-31    0.041711\n",
       "2019-06-28    0.012462\n",
       "2019-07-31    0.038853\n",
       "2019-08-30    0.033483\n",
       "2019-09-30    0.049261\n",
       "2019-10-31   -0.008185\n",
       "2019-11-29    0.009169\n",
       "2019-12-31   -0.023979\n",
       "dtype: float64"
      ]
     },
     "execution_count": 21,
     "metadata": {},
     "output_type": "execute_result"
    }
   ],
   "source": [
    "Cocacola_return"
   ]
  },
  {
   "cell_type": "code",
   "execution_count": 22,
   "metadata": {},
   "outputs": [
    {
     "data": {
      "text/plain": [
       "2019-01-31         NaN\n",
       "2019-02-28    0.043312\n",
       "2019-03-29    0.025764\n",
       "2019-04-30    0.058087\n",
       "2019-05-31    0.042907\n",
       "2019-06-28    0.007548\n",
       "2019-07-31    0.032301\n",
       "2019-08-30   -0.022956\n",
       "2019-09-30    0.064710\n",
       "2019-10-31    0.004254\n",
       "2019-11-29    0.004528\n",
       "2019-12-31    0.000400\n",
       "dtype: float64"
      ]
     },
     "execution_count": 22,
     "metadata": {},
     "output_type": "execute_result"
    }
   ],
   "source": [
    "Pepsi_return"
   ]
  },
  {
   "cell_type": "code",
   "execution_count": 23,
   "metadata": {},
   "outputs": [
    {
     "data": {
      "text/plain": [
       "2019-01-31         NaN\n",
       "2019-02-28    0.080696\n",
       "2019-03-29   -0.066618\n",
       "2019-04-30    0.103137\n",
       "2019-05-31    0.038242\n",
       "2019-06-28   -0.026506\n",
       "2019-07-31    0.035007\n",
       "2019-08-30   -0.031937\n",
       "2019-09-30   -0.038311\n",
       "2019-10-31    0.013279\n",
       "2019-11-29    0.034041\n",
       "2019-12-31    0.092743\n",
       "dtype: float64"
      ]
     },
     "execution_count": 23,
     "metadata": {},
     "output_type": "execute_result"
    }
   ],
   "source": [
    "GreenMountain_return"
   ]
  },
  {
   "cell_type": "code",
   "execution_count": 24,
   "metadata": {},
   "outputs": [
    {
     "data": {
      "text/plain": [
       "0.015015888515921645"
      ]
     },
     "execution_count": 24,
     "metadata": {},
     "output_type": "execute_result"
    }
   ],
   "source": [
    "Cocacola_return.mean()"
   ]
  },
  {
   "cell_type": "code",
   "execution_count": 25,
   "metadata": {},
   "outputs": [
    {
     "data": {
      "text/plain": [
       "0.023714018728350352"
      ]
     },
     "execution_count": 25,
     "metadata": {},
     "output_type": "execute_result"
    }
   ],
   "source": [
    "Pepsi_return.mean()"
   ]
  },
  {
   "cell_type": "code",
   "execution_count": 26,
   "metadata": {},
   "outputs": [
    {
     "data": {
      "text/plain": [
       "0.0212521422080976"
      ]
     },
     "execution_count": 26,
     "metadata": {},
     "output_type": "execute_result"
    }
   ],
   "source": [
    "GreenMountain_return.mean()"
   ]
  },
  {
   "cell_type": "code",
   "execution_count": null,
   "metadata": {},
   "outputs": [],
   "source": []
  }
 ],
 "metadata": {
  "kernelspec": {
   "display_name": "Python 3",
   "language": "python",
   "name": "python3"
  },
  "language_info": {
   "codemirror_mode": {
    "name": "ipython",
    "version": 3
   },
   "file_extension": ".py",
   "mimetype": "text/x-python",
   "name": "python",
   "nbconvert_exporter": "python",
   "pygments_lexer": "ipython3",
   "version": "3.7.6"
  }
 },
 "nbformat": 4,
 "nbformat_minor": 4
}
